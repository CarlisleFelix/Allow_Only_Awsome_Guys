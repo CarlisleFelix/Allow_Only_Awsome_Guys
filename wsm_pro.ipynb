{
 "cells": [
  {
   "cell_type": "code",
   "execution_count": 1,
   "metadata": {
    "tags": []
   },
   "outputs": [
    {
     "name": "stderr",
     "output_type": "stream",
     "text": [
      "fatal: destination path 'CLIP' already exists and is not an empty directory.\n"
     ]
    }
   ],
   "source": [
    "!git clone https://github.com/openai/CLIP.git"
   ]
  },
  {
   "cell_type": "code",
   "execution_count": 4,
   "metadata": {
    "collapsed": true,
    "jupyter": {
     "outputs_hidden": true
    },
    "tags": []
   },
   "outputs": [
    {
     "name": "stdout",
     "output_type": "stream",
     "text": [
      "Looking in indexes: https://pypi.tuna.tsinghua.edu.cn/simple\n",
      "Requirement already satisfied: backcall==0.2.0 in c:\\users\\13309\\appdata\\roaming\\python\\python38\\site-packages (from -r requirements.txt (line 1)) (0.2.0)\n",
      "Requirement already satisfied: decorator==4.4.2 in c:\\users\\13309\\appdata\\roaming\\python\\python38\\site-packages (from -r requirements.txt (line 2)) (4.4.2)\n",
      "Requirement already satisfied: ipykernel==5.4.3 in c:\\users\\13309\\appdata\\roaming\\python\\python38\\site-packages (from -r requirements.txt (line 3)) (5.4.3)\n",
      "Requirement already satisfied: ipython==7.19.0 in c:\\users\\13309\\appdata\\roaming\\python\\python38\\site-packages (from -r requirements.txt (line 4)) (7.19.0)\n",
      "Requirement already satisfied: ipython-genutils==0.2.0 in d:\\codingapps\\anaconda\\envs\\wsm_new_env\\lib\\site-packages (from -r requirements.txt (line 5)) (0.2.0)\n",
      "Requirement already satisfied: jedi==0.18.0 in c:\\users\\13309\\appdata\\roaming\\python\\python38\\site-packages (from -r requirements.txt (line 6)) (0.18.0)\n",
      "Requirement already satisfied: jupyter-client==6.1.11 in c:\\users\\13309\\appdata\\roaming\\python\\python38\\site-packages (from -r requirements.txt (line 7)) (6.1.11)\n",
      "Requirement already satisfied: jupyter-core==4.7.0 in c:\\users\\13309\\appdata\\roaming\\python\\python38\\site-packages (from -r requirements.txt (line 8)) (4.7.0)\n",
      "Requirement already satisfied: parso==0.8.1 in c:\\users\\13309\\appdata\\roaming\\python\\python38\\site-packages (from -r requirements.txt (line 9)) (0.8.1)\n",
      "Requirement already satisfied: pexpect==4.8.0 in c:\\users\\13309\\appdata\\roaming\\python\\python38\\site-packages (from -r requirements.txt (line 10)) (4.8.0)\n",
      "Requirement already satisfied: pickleshare==0.7.5 in c:\\users\\13309\\appdata\\roaming\\python\\python38\\site-packages (from -r requirements.txt (line 11)) (0.7.5)\n",
      "Requirement already satisfied: prompt-toolkit==3.0.10 in c:\\users\\13309\\appdata\\roaming\\python\\python38\\site-packages (from -r requirements.txt (line 12)) (3.0.10)\n",
      "Requirement already satisfied: ptyprocess==0.7.0 in d:\\codingapps\\anaconda\\envs\\wsm_new_env\\lib\\site-packages (from -r requirements.txt (line 13)) (0.7.0)\n",
      "Requirement already satisfied: Pygments==2.7.4 in c:\\users\\13309\\appdata\\roaming\\python\\python38\\site-packages (from -r requirements.txt (line 14)) (2.7.4)\n",
      "Requirement already satisfied: python-dateutil==2.8.1 in c:\\users\\13309\\appdata\\roaming\\python\\python38\\site-packages (from -r requirements.txt (line 15)) (2.8.1)\n",
      "Requirement already satisfied: pyzmq==21.0.1 in d:\\codingapps\\anaconda\\envs\\wsm_new_env\\lib\\site-packages (from -r requirements.txt (line 16)) (21.0.1)\n",
      "Requirement already satisfied: six==1.15.0 in d:\\codingapps\\anaconda\\envs\\wsm_new_env\\lib\\site-packages (from -r requirements.txt (line 17)) (1.15.0)\n",
      "Requirement already satisfied: tornado==6.1 in d:\\codingapps\\anaconda\\envs\\wsm_new_env\\lib\\site-packages (from -r requirements.txt (line 18)) (6.1)\n",
      "Collecting traitlets==5.3\n",
      "  Downloading https://pypi.tuna.tsinghua.edu.cn/packages/83/a9/1059771062cb80901c34a4dea020e76269412e69300b4ba12e3356865ad8/traitlets-5.3.0-py3-none-any.whl (106 kB)\n",
      "     ------------------------------------ 106.8/106.8 kB 772.8 kB/s eta 0:00:00\n",
      "Requirement already satisfied: wcwidth==0.2.5 in d:\\codingapps\\anaconda\\envs\\wsm_new_env\\lib\\site-packages (from -r requirements.txt (line 20)) (0.2.5)\n",
      "Requirement already satisfied: python-dotenv==0.15.0 in d:\\codingapps\\anaconda\\envs\\wsm_new_env\\lib\\site-packages (from -r requirements.txt (line 21)) (0.15.0)\n",
      "Requirement already satisfied: ipyplot==1.1.0 in c:\\users\\13309\\appdata\\roaming\\python\\python38\\site-packages (from -r requirements.txt (line 22)) (1.1.0)\n",
      "Requirement already satisfied: torch==1.8.0 in c:\\users\\13309\\appdata\\roaming\\python\\python38\\site-packages (from -r requirements.txt (line 23)) (1.8.0)\n",
      "Requirement already satisfied: torchvision==0.9.0 in c:\\users\\13309\\appdata\\roaming\\python\\python38\\site-packages (from -r requirements.txt (line 24)) (0.9.0)\n",
      "Requirement already satisfied: ftfy==5.8 in c:\\users\\13309\\appdata\\roaming\\python\\python38\\site-packages (from -r requirements.txt (line 25)) (5.8)\n",
      "Requirement already satisfied: regex==2020.11.13 in d:\\codingapps\\anaconda\\envs\\wsm_new_env\\lib\\site-packages (from -r requirements.txt (line 26)) (2020.11.13)\n",
      "Requirement already satisfied: tqdm==4.56.0 in d:\\codingapps\\anaconda\\envs\\wsm_new_env\\lib\\site-packages (from -r requirements.txt (line 27)) (4.56.0)\n",
      "Requirement already satisfied: pandas==1.2.0 in c:\\users\\13309\\appdata\\roaming\\python\\python38\\site-packages (from -r requirements.txt (line 28)) (1.2.0)\n",
      "Requirement already satisfied: fastparquet==0.5.0 in c:\\users\\13309\\appdata\\roaming\\python\\python38\\site-packages (from -r requirements.txt (line 29)) (0.5.0)\n",
      "Requirement already satisfied: pyarrow==2.0.0 in c:\\users\\13309\\appdata\\roaming\\python\\python38\\site-packages (from -r requirements.txt (line 30)) (2.0.0)\n",
      "Requirement already satisfied: colorama in c:\\users\\13309\\appdata\\roaming\\python\\python38\\site-packages (from ipython==7.19.0->-r requirements.txt (line 4)) (0.4.6)\n",
      "Requirement already satisfied: setuptools>=18.5 in d:\\codingapps\\anaconda\\envs\\wsm_new_env\\lib\\site-packages (from ipython==7.19.0->-r requirements.txt (line 4)) (66.0.0)\n",
      "Requirement already satisfied: pywin32>=1.0 in c:\\users\\13309\\appdata\\roaming\\python\\python38\\site-packages (from jupyter-core==4.7.0->-r requirements.txt (line 8)) (306)\n",
      "Requirement already satisfied: numpy in c:\\users\\13309\\appdata\\roaming\\python\\python38\\site-packages (from ipyplot==1.1.0->-r requirements.txt (line 22)) (1.23.5)\n",
      "Requirement already satisfied: pillow in c:\\users\\13309\\appdata\\roaming\\python\\python38\\site-packages (from ipyplot==1.1.0->-r requirements.txt (line 22)) (9.5.0)\n",
      "Requirement already satisfied: shortuuid in d:\\codingapps\\anaconda\\envs\\wsm_new_env\\lib\\site-packages (from ipyplot==1.1.0->-r requirements.txt (line 22)) (1.0.11)\n",
      "Requirement already satisfied: typing-extensions in c:\\users\\13309\\appdata\\roaming\\python\\python38\\site-packages (from torch==1.8.0->-r requirements.txt (line 23)) (4.5.0)\n",
      "Requirement already satisfied: pytz>=2017.3 in d:\\codingapps\\anaconda\\envs\\wsm_new_env\\lib\\site-packages (from pandas==1.2.0->-r requirements.txt (line 28)) (2023.3)\n",
      "Requirement already satisfied: thrift>=0.11.0 in c:\\users\\13309\\appdata\\roaming\\python\\python38\\site-packages (from fastparquet==0.5.0->-r requirements.txt (line 29)) (0.16.0)\n",
      "Requirement already satisfied: numba>=0.49 in c:\\users\\13309\\appdata\\roaming\\python\\python38\\site-packages (from fastparquet==0.5.0->-r requirements.txt (line 29)) (0.56.4)\n",
      "Requirement already satisfied: importlib-metadata in c:\\users\\13309\\appdata\\roaming\\python\\python38\\site-packages (from numba>=0.49->fastparquet==0.5.0->-r requirements.txt (line 29)) (6.3.0)\n",
      "Requirement already satisfied: llvmlite<0.40,>=0.39.0dev0 in c:\\users\\13309\\appdata\\roaming\\python\\python38\\site-packages (from numba>=0.49->fastparquet==0.5.0->-r requirements.txt (line 29)) (0.39.1)\n",
      "Requirement already satisfied: zipp>=0.5 in c:\\users\\13309\\appdata\\roaming\\python\\python38\\site-packages (from importlib-metadata->numba>=0.49->fastparquet==0.5.0->-r requirements.txt (line 29)) (3.15.0)\n",
      "Installing collected packages: traitlets\n",
      "  Attempting uninstall: traitlets\n",
      "    Found existing installation: traitlets 5.0.5\n",
      "    Uninstalling traitlets-5.0.5:\n",
      "      Successfully uninstalled traitlets-5.0.5\n",
      "Successfully installed traitlets-5.3.0\n"
     ]
    }
   ],
   "source": [
    "!pip install -r requirements.txt"
   ]
  },
  {
   "cell_type": "code",
   "execution_count": 1,
   "metadata": {},
   "outputs": [
    {
     "name": "stdout",
     "output_type": "stream",
     "text": [
      "1.8.0+cpu\n"
     ]
    }
   ],
   "source": [
    "import torch\n",
    "print(torch.__version__)  #注意是双下划线"
   ]
  },
  {
   "cell_type": "code",
   "execution_count": 6,
   "metadata": {},
   "outputs": [],
   "source": [
    "from pathlib import Path\n",
    "photos_path = Path(r\"E:\\研究生\\课程\\研一下\\互联网信息\\project\\image_dataset\\image_dataset\")\n",
    "photos_files = list(photos_path.glob(\"*.png\"))"
   ]
  },
  {
   "cell_type": "code",
   "execution_count": 7,
   "metadata": {},
   "outputs": [
    {
     "name": "stdout",
     "output_type": "stream",
     "text": [
      "Photos found: 3077\n"
     ]
    }
   ],
   "source": [
    "print(f\"Photos found: {len(photos_files)}\")"
   ]
  },
  {
   "cell_type": "code",
   "execution_count": 4,
   "metadata": {
    "tags": []
   },
   "outputs": [
    {
     "name": "stdout",
     "output_type": "stream",
     "text": [
      "F:\\anacondafile\\wsm_project\n"
     ]
    }
   ],
   "source": [
    "!chdir"
   ]
  },
  {
   "cell_type": "code",
   "execution_count": 6,
   "metadata": {},
   "outputs": [
    {
     "data": {
      "text/plain": [
       "'D:\\\\codingapps\\\\anaconda\\\\python.exe'"
      ]
     },
     "execution_count": 6,
     "metadata": {},
     "output_type": "execute_result"
    }
   ],
   "source": [
    "import sys\n",
    "sys.executable"
   ]
  },
  {
   "cell_type": "code",
   "execution_count": 9,
   "metadata": {
    "collapsed": true,
    "jupyter": {
     "outputs_hidden": true
    },
    "tags": []
   },
   "outputs": [
    {
     "name": "stdout",
     "output_type": "stream",
     "text": [
      "Looking in indexes: https://pypi.tuna.tsinghua.edu.cn/simple\n",
      "Processing f:\\anacondafile\\wsm_project\\clip\n",
      "  Preparing metadata (setup.py): started\n",
      "  Preparing metadata (setup.py): finished with status 'done'\n",
      "Requirement already satisfied: ftfy in c:\\users\\13309\\appdata\\roaming\\python\\python38\\site-packages (from clip==1.0) (5.8)\n",
      "Requirement already satisfied: regex in d:\\codingapps\\anaconda\\envs\\wsm_new_env\\lib\\site-packages (from clip==1.0) (2020.11.13)\n",
      "Requirement already satisfied: tqdm in d:\\codingapps\\anaconda\\envs\\wsm_new_env\\lib\\site-packages (from clip==1.0) (4.56.0)\n",
      "Requirement already satisfied: torch in c:\\users\\13309\\appdata\\roaming\\python\\python38\\site-packages (from clip==1.0) (1.8.0)\n",
      "Requirement already satisfied: torchvision in c:\\users\\13309\\appdata\\roaming\\python\\python38\\site-packages (from clip==1.0) (0.9.0)\n",
      "Requirement already satisfied: wcwidth in d:\\codingapps\\anaconda\\envs\\wsm_new_env\\lib\\site-packages (from ftfy->clip==1.0) (0.2.5)\n",
      "Requirement already satisfied: numpy in c:\\users\\13309\\appdata\\roaming\\python\\python38\\site-packages (from torch->clip==1.0) (1.23.5)\n",
      "Requirement already satisfied: typing-extensions in c:\\users\\13309\\appdata\\roaming\\python\\python38\\site-packages (from torch->clip==1.0) (4.5.0)\n",
      "Requirement already satisfied: pillow>=4.1.1 in c:\\users\\13309\\appdata\\roaming\\python\\python38\\site-packages (from torchvision->clip==1.0) (9.5.0)\n",
      "Building wheels for collected packages: clip\n",
      "  Building wheel for clip (setup.py): started\n",
      "  Building wheel for clip (setup.py): finished with status 'done'\n",
      "  Created wheel for clip: filename=clip-1.0-py3-none-any.whl size=1369454 sha256=0873b3533c145830b203463c39e3863bccbc31255e2d0a86ce5d8daef13588f0\n",
      "  Stored in directory: C:\\Users\\13309\\AppData\\Local\\Temp\\pip-ephem-wheel-cache-5jpiggz5\\wheels\\fa\\4b\\2b\\095eb68fbfc0d36b09643be7e6d8806b1850ba64c258f8e0a7\n",
      "Successfully built clip\n",
      "Installing collected packages: clip\n",
      "Successfully installed clip-1.0\n"
     ]
    }
   ],
   "source": [
    "!pip install .\\CLIP"
   ]
  },
  {
   "cell_type": "code",
   "execution_count": 2,
   "metadata": {},
   "outputs": [],
   "source": [
    "import clip\n",
    "from PIL import Image\n",
    "\n",
    "# Load the open CLIP model\n",
    "device = \"cuda\" if torch.cuda.is_available() else \"cpu\"\n",
    "model, preprocess = clip.load(\"ViT-B-32.pt\", device=device)"
   ]
  },
  {
   "cell_type": "code",
   "execution_count": 2,
   "metadata": {},
   "outputs": [],
   "source": [
    "def compute_clip_features(photos_batch):\n",
    "    # Load all the photos from the files\n",
    "    photos = [Image.open(photo_file) for photo_file in photos_batch]\n",
    "    \n",
    "    # Preprocess all photos\n",
    "    photos_preprocessed = torch.stack([preprocess(photo) for photo in photos]).to(device)\n",
    "\n",
    "    with torch.no_grad():\n",
    "        # Encode the photos batch to compute the feature vectors and normalize them\n",
    "        photos_features = model.encode_image(photos_preprocessed)\n",
    "        photos_features /= photos_features.norm(dim=-1, keepdim=True)\n",
    "\n",
    "    # Transfer the feature vectors back to the CPU and convert to numpy\n",
    "    return photos_features.cpu().numpy()"
   ]
  },
  {
   "cell_type": "code",
   "execution_count": 7,
   "metadata": {
    "collapsed": true,
    "jupyter": {
     "outputs_hidden": true
    },
    "tags": []
   },
   "outputs": [
    {
     "name": "stdout",
     "output_type": "stream",
     "text": [
      "Processing batch 1/193\n",
      "Processing batch 2/193\n",
      "Processing batch 3/193\n",
      "Processing batch 4/193\n",
      "Processing batch 5/193\n",
      "Processing batch 6/193\n",
      "Processing batch 7/193\n",
      "Processing batch 8/193\n",
      "Processing batch 9/193\n",
      "Processing batch 10/193\n",
      "Processing batch 11/193\n",
      "Processing batch 12/193\n",
      "Processing batch 13/193\n",
      "Processing batch 14/193\n",
      "Processing batch 15/193\n",
      "Processing batch 16/193\n",
      "Processing batch 17/193\n",
      "Processing batch 18/193\n",
      "Processing batch 19/193\n",
      "Processing batch 20/193\n",
      "Processing batch 21/193\n",
      "Processing batch 22/193\n",
      "Processing batch 23/193\n",
      "Processing batch 24/193\n",
      "Processing batch 25/193\n",
      "Processing batch 26/193\n",
      "Processing batch 27/193\n",
      "Processing batch 28/193\n",
      "Processing batch 29/193\n",
      "Processing batch 30/193\n",
      "Processing batch 31/193\n",
      "Processing batch 32/193\n",
      "Processing batch 33/193\n",
      "Processing batch 34/193\n",
      "Processing batch 35/193\n",
      "Processing batch 36/193\n",
      "Processing batch 37/193\n",
      "Processing batch 38/193\n",
      "Processing batch 39/193\n",
      "Processing batch 40/193\n",
      "Processing batch 41/193\n",
      "Processing batch 42/193\n",
      "Processing batch 43/193\n",
      "Processing batch 44/193\n",
      "Processing batch 45/193\n",
      "Processing batch 46/193\n",
      "Processing batch 47/193\n",
      "Processing batch 48/193\n",
      "Processing batch 49/193\n",
      "Processing batch 50/193\n",
      "Processing batch 51/193\n",
      "Processing batch 52/193\n",
      "Processing batch 53/193\n",
      "Processing batch 54/193\n",
      "Processing batch 55/193\n",
      "Processing batch 56/193\n",
      "Processing batch 57/193\n",
      "Processing batch 58/193\n",
      "Processing batch 59/193\n",
      "Processing batch 60/193\n",
      "Processing batch 61/193\n",
      "Processing batch 62/193\n",
      "Processing batch 63/193\n",
      "Processing batch 64/193\n",
      "Processing batch 65/193\n",
      "Processing batch 66/193\n",
      "Processing batch 67/193\n",
      "Processing batch 68/193\n",
      "Processing batch 69/193\n",
      "Processing batch 70/193\n",
      "Processing batch 71/193\n",
      "Processing batch 72/193\n",
      "Processing batch 73/193\n",
      "Processing batch 74/193\n",
      "Processing batch 75/193\n",
      "Processing batch 76/193\n",
      "Processing batch 77/193\n",
      "Processing batch 78/193\n",
      "Processing batch 79/193\n",
      "Processing batch 80/193\n",
      "Processing batch 81/193\n",
      "Processing batch 82/193\n",
      "Processing batch 83/193\n",
      "Processing batch 84/193\n",
      "Processing batch 85/193\n",
      "Processing batch 86/193\n",
      "Processing batch 87/193\n",
      "Processing batch 88/193\n",
      "Processing batch 89/193\n",
      "Processing batch 90/193\n",
      "Processing batch 91/193\n",
      "Processing batch 92/193\n",
      "Processing batch 93/193\n",
      "Processing batch 94/193\n",
      "Processing batch 95/193\n",
      "Processing batch 96/193\n",
      "Processing batch 97/193\n",
      "Processing batch 98/193\n",
      "Processing batch 99/193\n",
      "Processing batch 100/193\n",
      "Processing batch 101/193\n",
      "Processing batch 102/193\n",
      "Processing batch 103/193\n",
      "Processing batch 104/193\n",
      "Processing batch 105/193\n",
      "Processing batch 106/193\n",
      "Processing batch 107/193\n",
      "Processing batch 108/193\n",
      "Processing batch 109/193\n",
      "Processing batch 110/193\n",
      "Processing batch 111/193\n",
      "Processing batch 112/193\n",
      "Processing batch 113/193\n",
      "Processing batch 114/193\n",
      "Processing batch 115/193\n",
      "Processing batch 116/193\n",
      "Processing batch 117/193\n",
      "Processing batch 118/193\n",
      "Processing batch 119/193\n",
      "Processing batch 120/193\n",
      "Processing batch 121/193\n",
      "Processing batch 122/193\n",
      "Processing batch 123/193\n",
      "Processing batch 124/193\n",
      "Processing batch 125/193\n",
      "Processing batch 126/193\n",
      "Processing batch 127/193\n",
      "Processing batch 128/193\n",
      "Processing batch 129/193\n",
      "Processing batch 130/193\n",
      "Processing batch 131/193\n",
      "Processing batch 132/193\n",
      "Processing batch 133/193\n",
      "Processing batch 134/193\n",
      "Processing batch 135/193\n",
      "Processing batch 136/193\n",
      "Processing batch 137/193\n",
      "Processing batch 138/193\n",
      "Processing batch 139/193\n",
      "Processing batch 140/193\n",
      "Processing batch 141/193\n",
      "Processing batch 142/193\n",
      "Processing batch 143/193\n",
      "Processing batch 144/193\n",
      "Processing batch 145/193\n",
      "Processing batch 146/193\n",
      "Processing batch 147/193\n",
      "Processing batch 148/193\n",
      "Processing batch 149/193\n",
      "Processing batch 150/193\n",
      "Processing batch 151/193\n",
      "Processing batch 152/193\n",
      "Processing batch 153/193\n",
      "Processing batch 154/193\n",
      "Processing batch 155/193\n",
      "Processing batch 156/193\n",
      "Processing batch 157/193\n",
      "Processing batch 158/193\n",
      "Processing batch 159/193\n",
      "Processing batch 160/193\n",
      "Processing batch 161/193\n",
      "Processing batch 162/193\n",
      "Processing batch 163/193\n",
      "Processing batch 164/193\n",
      "Processing batch 165/193\n",
      "Processing batch 166/193\n",
      "Processing batch 167/193\n",
      "Processing batch 168/193\n",
      "Processing batch 169/193\n",
      "Processing batch 170/193\n",
      "Processing batch 171/193\n",
      "Processing batch 172/193\n",
      "Processing batch 173/193\n",
      "Processing batch 174/193\n",
      "Processing batch 175/193\n",
      "Processing batch 176/193\n",
      "Processing batch 177/193\n",
      "Processing batch 178/193\n",
      "Processing batch 179/193\n",
      "Processing batch 180/193\n",
      "Processing batch 181/193\n",
      "Processing batch 182/193\n",
      "Processing batch 183/193\n",
      "Processing batch 184/193\n",
      "Processing batch 185/193\n",
      "Processing batch 186/193\n",
      "Processing batch 187/193\n",
      "Processing batch 188/193\n",
      "Processing batch 189/193\n",
      "Processing batch 190/193\n",
      "Processing batch 191/193\n",
      "Processing batch 192/193\n",
      "Processing batch 193/193\n"
     ]
    }
   ],
   "source": [
    "import math\n",
    "import numpy as np\n",
    "import pandas as pd\n",
    "\n",
    "# Define the batch size so that it fits on your GPU. You can also do the processing on the CPU, but it will be slower.\n",
    "batch_size = 16\n",
    "\n",
    "# Path where the feature vectors will be stored\n",
    "features_path = Path(r\"E:\\研究生\\课程\\研一下\\互联网信息\\project\\image_dataset\\features\")\n",
    "\n",
    "# Compute how many batches are needed\n",
    "batches = math.ceil(len(photos_files) / batch_size)\n",
    "\n",
    "# Process each batch\n",
    "for i in range(batches):\n",
    "    print(f\"Processing batch {i+1}/{batches}\")\n",
    "\n",
    "    batch_ids_path = features_path / f\"{i:010d}.csv\"\n",
    "    batch_features_path = features_path / f\"{i:010d}.npy\"\n",
    "    \n",
    "    # Only do the processing if the batch wasn't processed yet\n",
    "    if not batch_features_path.exists():\n",
    "        try:\n",
    "            # Select the photos for the current batch\n",
    "            batch_files = photos_files[i*batch_size : (i+1)*batch_size]\n",
    "\n",
    "            # Compute the features and save to a numpy file\n",
    "            batch_features = compute_clip_features(batch_files)\n",
    "            np.save(batch_features_path, batch_features)\n",
    "\n",
    "            # Save the photo IDs to a CSV file\n",
    "            photo_ids = [photo_file.name.split(\".\")[0] for photo_file in batch_files]\n",
    "            photo_ids_data = pd.DataFrame(photo_ids, columns=['photo_id'])\n",
    "            photo_ids_data.to_csv(batch_ids_path, index=False)\n",
    "        except:\n",
    "            # Catch problems with the processing to make the process more robust\n",
    "            print(f'Problem with batch {i}')"
   ]
  },
  {
   "cell_type": "code",
   "execution_count": 8,
   "metadata": {},
   "outputs": [],
   "source": [
    "import numpy as np\n",
    "import pandas as pd\n",
    "\n",
    "# Load all numpy files\n",
    "features_list = [np.load(features_file) for features_file in sorted(features_path.glob(\"*.npy\"))]\n",
    "\n",
    "# Concatenate the features and store in a merged file\n",
    "features = np.concatenate(features_list)\n",
    "np.save(features_path / \"features.npy\", features)\n",
    "\n",
    "# Load all the photo IDs\n",
    "photo_ids = pd.concat([pd.read_csv(ids_file) for ids_file in sorted(features_path.glob(\"*.csv\"))])\n",
    "photo_ids.to_csv(features_path / \"photo_ids.csv\", index=False)"
   ]
  }
 ],
 "metadata": {
  "kernelspec": {
   "display_name": "wsm_new_env",
   "language": "python",
   "name": "wsm_new_env"
  },
  "language_info": {
   "codemirror_mode": {
    "name": "ipython",
    "version": 3
   },
   "file_extension": ".py",
   "mimetype": "text/x-python",
   "name": "python",
   "nbconvert_exporter": "python",
   "pygments_lexer": "ipython3",
   "version": "3.8.16"
  }
 },
 "nbformat": 4,
 "nbformat_minor": 4
}
